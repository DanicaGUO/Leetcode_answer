{
 "cells": [
  {
   "cell_type": "markdown",
   "metadata": {},
   "source": [
    "Given a valid (IPv4) IP address, return a defanged version of that IP address.\n",
    "\n",
    "A defanged IP address replaces every period \".\" with \"[.]\"."
   ]
  },
  {
   "cell_type": "markdown",
   "metadata": {},
   "source": [
    "Example 1:\n",
    "\n",
    "Input: address = \"1.1.1.1\"\n",
    "Output: \"1[.]1[.]1[.]1\"\n",
    "Example 2:\n",
    "\n",
    "Input: address = \"255.100.50.0\"\n",
    "Output: \"255[.]100[.]50[.]0\"\n",
    " \n",
    "\n",
    "Constraints:\n",
    "\n",
    "The given address is a valid IPv4 address."
   ]
  },
  {
   "cell_type": "code",
   "execution_count": null,
   "metadata": {},
   "outputs": [],
   "source": []
  },
  {
   "cell_type": "code",
   "execution_count": 28,
   "metadata": {},
   "outputs": [
    {
     "name": "stdout",
     "output_type": "stream",
     "text": [
      "1.1.1.1\n",
      "here\n",
      "<class 'str'>\n",
      "there\n",
      "1..\n",
      "here\n",
      "<class 'str'>\n",
      "there\n",
      "1..\n",
      "here\n",
      "<class 'str'>\n",
      "there\n",
      "1..\n",
      "here\n",
      "<class 'str'>\n",
      "1\n"
     ]
    }
   ],
   "source": [
    "# ip = input ('Input: address =')\n",
    "ip = \"1.1.1.1\"\n",
    "print (ip)\n",
    "# ip = list(ip)\n",
    "ip_output = \"\"\n",
    "for index,cont in enumerate(ip) :\n",
    "#     print (index,type(cont))\n",
    "    if cont == '.':\n",
    "        print ('there')\n",
    "        ip_output = ip_output + \"..\"\n",
    "        print (ip_output)\n",
    "#         ip_output+'2[1.]'\n",
    "    else:\n",
    "        print ('here')\n",
    "        ip_output = ip_output.join(cont)\n",
    "        print (type(ip_output))\n",
    "#         ip_output+cont\n",
    "        \n",
    "print (ip_output)"
   ]
  },
  {
   "cell_type": "code",
   "execution_count": 41,
   "metadata": {},
   "outputs": [
    {
     "name": "stdout",
     "output_type": "stream",
     "text": [
      "1.1.1.1\n",
      "here\n",
      "there\n",
      "here\n",
      "there\n",
      "here\n",
      "there\n",
      "here\n",
      "1\n"
     ]
    }
   ],
   "source": [
    "# ip = input ('Input: address =')\n",
    "ip = \"1.1.1.1\"\n",
    "print (ip)\n",
    "# ip = list(ip)\n",
    "ip_output = \"\"\n",
    "for cont in ip:\n",
    "#     print (index,type(cont))\n",
    "    if cont == '.':\n",
    "        print ('there')\n",
    "        ip_output = ip_output + \".\"\n",
    "#         ip_output+'2[1.]'\n",
    "    else:\n",
    "        print ('here')\n",
    "#         ip_output = ip_output+cont\n",
    "        ip_output = ip_output.join(cont)\n",
    "#         ip_output+cont\n",
    "        \n",
    "print (ip_output)"
   ]
  },
  {
   "cell_type": "code",
   "execution_count": 36,
   "metadata": {},
   "outputs": [
    {
     "name": "stdout",
     "output_type": "stream",
     "text": [
      "1[.]1[.]1[.]1\n"
     ]
    }
   ],
   "source": [
    "address = \"1.1.1.1\"\n",
    "word = []\n",
    "for i in address:\n",
    "    if i == \".\":\n",
    "        word.append(\"[.]\")\n",
    "    else:\n",
    "        word.append(i)\n",
    "\n",
    "word = \"\".join(word)\n",
    "print (word)"
   ]
  },
  {
   "cell_type": "code",
   "execution_count": 37,
   "metadata": {},
   "outputs": [
    {
     "name": "stdout",
     "output_type": "stream",
     "text": [
      "1[.]1[.]1[.]1\n"
     ]
    }
   ],
   "source": [
    "address = \"1.1.1.1\"\n",
    "ans=''\n",
    "for i in address:\n",
    "    if i=='.':\n",
    "        ans+='[.]'\n",
    "    else:\n",
    "        ans+=i\n",
    "print (ans)"
   ]
  },
  {
   "cell_type": "code",
   "execution_count": null,
   "metadata": {},
   "outputs": [],
   "source": []
  }
 ],
 "metadata": {
  "kernelspec": {
   "display_name": "Python 3",
   "language": "python",
   "name": "python3"
  },
  "language_info": {
   "codemirror_mode": {
    "name": "ipython",
    "version": 3
   },
   "file_extension": ".py",
   "mimetype": "text/x-python",
   "name": "python",
   "nbconvert_exporter": "python",
   "pygments_lexer": "ipython3",
   "version": "3.7.4"
  }
 },
 "nbformat": 4,
 "nbformat_minor": 2
}
